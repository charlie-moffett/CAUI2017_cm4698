{
 "cells": [
  {
   "cell_type": "markdown",
   "metadata": {},
   "source": [
    "# 1. Identify the problem: Can rodent complaints be explained by bldg age in Brooklyn?"
   ]
  },
  {
   "cell_type": "markdown",
   "metadata": {},
   "source": [
    "# 2. Descriptive statistics:\n",
    "Generate descriptives for building age and rodent complaints (mean, median, standard deviation); plot histograms, scatterplot. \n",
    "\n",
    "Discuss any unusual or unexpected findings."
   ]
  },
  {
   "cell_type": "code",
   "execution_count": 431,
   "metadata": {
    "collapsed": false
   },
   "outputs": [],
   "source": [
    "import numpy as np\n",
    "import pandas as pd\n",
    "import sys\n",
    "import os\n",
    "import pylab as pl"
   ]
  },
  {
   "cell_type": "code",
   "execution_count": 432,
   "metadata": {
    "collapsed": false
   },
   "outputs": [
    {
     "data": {
      "text/html": [
       "<div>\n",
       "<table border=\"1\" class=\"dataframe\">\n",
       "  <thead>\n",
       "    <tr style=\"text-align: right;\">\n",
       "      <th></th>\n",
       "      <th>Unique Key</th>\n",
       "      <th>Created Date</th>\n",
       "      <th>Closed Date</th>\n",
       "      <th>Agency</th>\n",
       "      <th>Agency Name</th>\n",
       "      <th>Complaint Type</th>\n",
       "      <th>Descriptor</th>\n",
       "      <th>Location Type</th>\n",
       "      <th>Incident Zip</th>\n",
       "      <th>Incident Address</th>\n",
       "      <th>...</th>\n",
       "      <th>Due Date</th>\n",
       "      <th>Resolution Description</th>\n",
       "      <th>Resolution Action Updated Date</th>\n",
       "      <th>Community Board</th>\n",
       "      <th>Borough</th>\n",
       "      <th>X Coordinate (State Plane)</th>\n",
       "      <th>Y Coordinate (State Plane)</th>\n",
       "      <th>Latitude</th>\n",
       "      <th>Longitude</th>\n",
       "      <th>Location</th>\n",
       "    </tr>\n",
       "  </thead>\n",
       "  <tbody>\n",
       "    <tr>\n",
       "      <th>0</th>\n",
       "      <td>32310790</td>\n",
       "      <td>01/01/2016 12:00:00 AM</td>\n",
       "      <td>01/20/2016 12:00:00 AM</td>\n",
       "      <td>DOHMH</td>\n",
       "      <td>Department of Health and Mental Hygiene</td>\n",
       "      <td>Rodent</td>\n",
       "      <td>Mouse Sighting</td>\n",
       "      <td>3+ Family Apt. Building</td>\n",
       "      <td>11210.0</td>\n",
       "      <td>2300 KINGS HIGHWAY</td>\n",
       "      <td>...</td>\n",
       "      <td>01/31/2016 08:07:31 AM</td>\n",
       "      <td>The Department of Health and Mental Hygiene wi...</td>\n",
       "      <td>01/20/2016 12:00:00 AM</td>\n",
       "      <td>Unspecified BROOKLYN</td>\n",
       "      <td>BROOKLYN</td>\n",
       "      <td>998023.0</td>\n",
       "      <td>162074.0</td>\n",
       "      <td>40.611521</td>\n",
       "      <td>-73.950394</td>\n",
       "      <td>(40.61152137455337, -73.95039416824221)</td>\n",
       "    </tr>\n",
       "    <tr>\n",
       "      <th>1</th>\n",
       "      <td>32310858</td>\n",
       "      <td>01/01/2016 12:00:00 AM</td>\n",
       "      <td>01/20/2016 12:00:00 AM</td>\n",
       "      <td>DOHMH</td>\n",
       "      <td>Department of Health and Mental Hygiene</td>\n",
       "      <td>Rodent</td>\n",
       "      <td>Rat Sighting</td>\n",
       "      <td>Other (Explain Below)</td>\n",
       "      <td>11230.0</td>\n",
       "      <td>1541 E 19TH ST</td>\n",
       "      <td>...</td>\n",
       "      <td>01/31/2016 06:25:33 AM</td>\n",
       "      <td>The Department of Health and Mental Hygiene wi...</td>\n",
       "      <td>01/20/2016 12:00:00 AM</td>\n",
       "      <td>Unspecified BROOKLYN</td>\n",
       "      <td>BROOKLYN</td>\n",
       "      <td>996796.0</td>\n",
       "      <td>162439.0</td>\n",
       "      <td>40.612525</td>\n",
       "      <td>-73.954813</td>\n",
       "      <td>(40.612525046508665, -73.95481274111293)</td>\n",
       "    </tr>\n",
       "    <tr>\n",
       "      <th>2</th>\n",
       "      <td>32310889</td>\n",
       "      <td>01/01/2016 12:00:00 AM</td>\n",
       "      <td>NaN</td>\n",
       "      <td>DOHMH</td>\n",
       "      <td>Department of Health and Mental Hygiene</td>\n",
       "      <td>Rodent</td>\n",
       "      <td>Rat Sighting</td>\n",
       "      <td>Vacant Lot</td>\n",
       "      <td>11232.0</td>\n",
       "      <td>358 43 STREET</td>\n",
       "      <td>...</td>\n",
       "      <td>01/31/2016 03:57:01 PM</td>\n",
       "      <td>The Department of Health and Mental Hygiene wi...</td>\n",
       "      <td>01/01/2016 12:00:00 AM</td>\n",
       "      <td>07 BROOKLYN</td>\n",
       "      <td>BROOKLYN</td>\n",
       "      <td>981656.0</td>\n",
       "      <td>176414.0</td>\n",
       "      <td>40.650892</td>\n",
       "      <td>-74.009348</td>\n",
       "      <td>(40.650891966208945, -74.0093482505519)</td>\n",
       "    </tr>\n",
       "    <tr>\n",
       "      <th>3</th>\n",
       "      <td>32311212</td>\n",
       "      <td>01/01/2016 12:00:00 AM</td>\n",
       "      <td>01/12/2016 12:00:00 AM</td>\n",
       "      <td>DOHMH</td>\n",
       "      <td>Department of Health and Mental Hygiene</td>\n",
       "      <td>Rodent</td>\n",
       "      <td>Signs of Rodents</td>\n",
       "      <td>3+ Family Apt. Building</td>\n",
       "      <td>11210.0</td>\n",
       "      <td>1145 EAST 35TH STREET</td>\n",
       "      <td>...</td>\n",
       "      <td>01/31/2016 11:08:24 PM</td>\n",
       "      <td>The Department of Health and Mental Hygiene wi...</td>\n",
       "      <td>01/12/2016 12:00:00 AM</td>\n",
       "      <td>Unspecified BROOKLYN</td>\n",
       "      <td>BROOKLYN</td>\n",
       "      <td>1000418.0</td>\n",
       "      <td>167400.0</td>\n",
       "      <td>40.626136</td>\n",
       "      <td>-73.941755</td>\n",
       "      <td>(40.626136087996805, -73.94175541087431)</td>\n",
       "    </tr>\n",
       "    <tr>\n",
       "      <th>4</th>\n",
       "      <td>32312004</td>\n",
       "      <td>01/01/2016 12:00:00 AM</td>\n",
       "      <td>NaN</td>\n",
       "      <td>DOHMH</td>\n",
       "      <td>Department of Health and Mental Hygiene</td>\n",
       "      <td>Rodent</td>\n",
       "      <td>Mouse Sighting</td>\n",
       "      <td>1-2 Family Dwelling</td>\n",
       "      <td>11212.0</td>\n",
       "      <td>354 AMBOY STREET</td>\n",
       "      <td>...</td>\n",
       "      <td>01/31/2016 10:14:00 PM</td>\n",
       "      <td>The Department of Health and Mental Hygiene wi...</td>\n",
       "      <td>01/13/2016 12:00:00 AM</td>\n",
       "      <td>16 BROOKLYN</td>\n",
       "      <td>BROOKLYN</td>\n",
       "      <td>1008506.0</td>\n",
       "      <td>180291.0</td>\n",
       "      <td>40.661501</td>\n",
       "      <td>-73.912572</td>\n",
       "      <td>(40.66150063761366, -73.91257237318781)</td>\n",
       "    </tr>\n",
       "  </tbody>\n",
       "</table>\n",
       "<p>5 rows × 30 columns</p>\n",
       "</div>"
      ],
      "text/plain": [
       "   Unique Key            Created Date             Closed Date Agency  \\\n",
       "0    32310790  01/01/2016 12:00:00 AM  01/20/2016 12:00:00 AM  DOHMH   \n",
       "1    32310858  01/01/2016 12:00:00 AM  01/20/2016 12:00:00 AM  DOHMH   \n",
       "2    32310889  01/01/2016 12:00:00 AM                     NaN  DOHMH   \n",
       "3    32311212  01/01/2016 12:00:00 AM  01/12/2016 12:00:00 AM  DOHMH   \n",
       "4    32312004  01/01/2016 12:00:00 AM                     NaN  DOHMH   \n",
       "\n",
       "                               Agency Name Complaint Type        Descriptor  \\\n",
       "0  Department of Health and Mental Hygiene         Rodent    Mouse Sighting   \n",
       "1  Department of Health and Mental Hygiene         Rodent      Rat Sighting   \n",
       "2  Department of Health and Mental Hygiene         Rodent      Rat Sighting   \n",
       "3  Department of Health and Mental Hygiene         Rodent  Signs of Rodents   \n",
       "4  Department of Health and Mental Hygiene         Rodent    Mouse Sighting   \n",
       "\n",
       "             Location Type  Incident Zip       Incident Address  \\\n",
       "0  3+ Family Apt. Building       11210.0     2300 KINGS HIGHWAY   \n",
       "1    Other (Explain Below)       11230.0         1541 E 19TH ST   \n",
       "2               Vacant Lot       11232.0          358 43 STREET   \n",
       "3  3+ Family Apt. Building       11210.0  1145 EAST 35TH STREET   \n",
       "4      1-2 Family Dwelling       11212.0       354 AMBOY STREET   \n",
       "\n",
       "                     ...                                   Due Date  \\\n",
       "0                    ...                     01/31/2016 08:07:31 AM   \n",
       "1                    ...                     01/31/2016 06:25:33 AM   \n",
       "2                    ...                     01/31/2016 03:57:01 PM   \n",
       "3                    ...                     01/31/2016 11:08:24 PM   \n",
       "4                    ...                     01/31/2016 10:14:00 PM   \n",
       "\n",
       "                              Resolution Description  \\\n",
       "0  The Department of Health and Mental Hygiene wi...   \n",
       "1  The Department of Health and Mental Hygiene wi...   \n",
       "2  The Department of Health and Mental Hygiene wi...   \n",
       "3  The Department of Health and Mental Hygiene wi...   \n",
       "4  The Department of Health and Mental Hygiene wi...   \n",
       "\n",
       "  Resolution Action Updated Date       Community Board   Borough  \\\n",
       "0         01/20/2016 12:00:00 AM  Unspecified BROOKLYN  BROOKLYN   \n",
       "1         01/20/2016 12:00:00 AM  Unspecified BROOKLYN  BROOKLYN   \n",
       "2         01/01/2016 12:00:00 AM           07 BROOKLYN  BROOKLYN   \n",
       "3         01/12/2016 12:00:00 AM  Unspecified BROOKLYN  BROOKLYN   \n",
       "4         01/13/2016 12:00:00 AM           16 BROOKLYN  BROOKLYN   \n",
       "\n",
       "  X Coordinate (State Plane) Y Coordinate (State Plane)   Latitude  Longitude  \\\n",
       "0                   998023.0                   162074.0  40.611521 -73.950394   \n",
       "1                   996796.0                   162439.0  40.612525 -73.954813   \n",
       "2                   981656.0                   176414.0  40.650892 -74.009348   \n",
       "3                  1000418.0                   167400.0  40.626136 -73.941755   \n",
       "4                  1008506.0                   180291.0  40.661501 -73.912572   \n",
       "\n",
       "                                   Location  \n",
       "0   (40.61152137455337, -73.95039416824221)  \n",
       "1  (40.612525046508665, -73.95481274111293)  \n",
       "2   (40.650891966208945, -74.0093482505519)  \n",
       "3  (40.626136087996805, -73.94175541087431)  \n",
       "4   (40.66150063761366, -73.91257237318781)  \n",
       "\n",
       "[5 rows x 30 columns]"
      ]
     },
     "execution_count": 432,
     "metadata": {},
     "output_type": "execute_result"
    }
   ],
   "source": [
    "# 311 Data CSV was filtered for Complaint Type: Rodent and Borough: BROOKLYN\n",
    "df = pd.read_csv('311_Service_Requests_from_2010_to_Present.csv')\n",
    "df.head()"
   ]
  },
  {
   "cell_type": "code",
   "execution_count": 433,
   "metadata": {
    "collapsed": false
   },
   "outputs": [
    {
     "data": {
      "text/html": [
       "<div>\n",
       "<table border=\"1\" class=\"dataframe\">\n",
       "  <thead>\n",
       "    <tr style=\"text-align: right;\">\n",
       "      <th></th>\n",
       "      <th>Community Board</th>\n",
       "      <th>Unique Key</th>\n",
       "    </tr>\n",
       "  </thead>\n",
       "  <tbody>\n",
       "    <tr>\n",
       "      <th>0</th>\n",
       "      <td>01 BROOKLYN</td>\n",
       "      <td>573</td>\n",
       "    </tr>\n",
       "    <tr>\n",
       "      <th>1</th>\n",
       "      <td>02 BROOKLYN</td>\n",
       "      <td>414</td>\n",
       "    </tr>\n",
       "    <tr>\n",
       "      <th>2</th>\n",
       "      <td>03 BROOKLYN</td>\n",
       "      <td>1235</td>\n",
       "    </tr>\n",
       "    <tr>\n",
       "      <th>3</th>\n",
       "      <td>04 BROOKLYN</td>\n",
       "      <td>635</td>\n",
       "    </tr>\n",
       "    <tr>\n",
       "      <th>4</th>\n",
       "      <td>05 BROOKLYN</td>\n",
       "      <td>487</td>\n",
       "    </tr>\n",
       "    <tr>\n",
       "      <th>5</th>\n",
       "      <td>06 BROOKLYN</td>\n",
       "      <td>393</td>\n",
       "    </tr>\n",
       "    <tr>\n",
       "      <th>6</th>\n",
       "      <td>07 BROOKLYN</td>\n",
       "      <td>164</td>\n",
       "    </tr>\n",
       "    <tr>\n",
       "      <th>7</th>\n",
       "      <td>08 BROOKLYN</td>\n",
       "      <td>683</td>\n",
       "    </tr>\n",
       "    <tr>\n",
       "      <th>8</th>\n",
       "      <td>09 BROOKLYN</td>\n",
       "      <td>449</td>\n",
       "    </tr>\n",
       "    <tr>\n",
       "      <th>9</th>\n",
       "      <td>10 BROOKLYN</td>\n",
       "      <td>155</td>\n",
       "    </tr>\n",
       "    <tr>\n",
       "      <th>10</th>\n",
       "      <td>11 BROOKLYN</td>\n",
       "      <td>257</td>\n",
       "    </tr>\n",
       "    <tr>\n",
       "      <th>11</th>\n",
       "      <td>12 BROOKLYN</td>\n",
       "      <td>173</td>\n",
       "    </tr>\n",
       "    <tr>\n",
       "      <th>12</th>\n",
       "      <td>13 BROOKLYN</td>\n",
       "      <td>224</td>\n",
       "    </tr>\n",
       "    <tr>\n",
       "      <th>13</th>\n",
       "      <td>14 BROOKLYN</td>\n",
       "      <td>373</td>\n",
       "    </tr>\n",
       "    <tr>\n",
       "      <th>14</th>\n",
       "      <td>15 BROOKLYN</td>\n",
       "      <td>195</td>\n",
       "    </tr>\n",
       "    <tr>\n",
       "      <th>15</th>\n",
       "      <td>16 BROOKLYN</td>\n",
       "      <td>383</td>\n",
       "    </tr>\n",
       "    <tr>\n",
       "      <th>16</th>\n",
       "      <td>17 BROOKLYN</td>\n",
       "      <td>534</td>\n",
       "    </tr>\n",
       "    <tr>\n",
       "      <th>17</th>\n",
       "      <td>18 BROOKLYN</td>\n",
       "      <td>307</td>\n",
       "    </tr>\n",
       "  </tbody>\n",
       "</table>\n",
       "</div>"
      ],
      "text/plain": [
       "   Community Board  Unique Key\n",
       "0      01 BROOKLYN         573\n",
       "1      02 BROOKLYN         414\n",
       "2      03 BROOKLYN        1235\n",
       "3      04 BROOKLYN         635\n",
       "4      05 BROOKLYN         487\n",
       "5      06 BROOKLYN         393\n",
       "6      07 BROOKLYN         164\n",
       "7      08 BROOKLYN         683\n",
       "8      09 BROOKLYN         449\n",
       "9      10 BROOKLYN         155\n",
       "10     11 BROOKLYN         257\n",
       "11     12 BROOKLYN         173\n",
       "12     13 BROOKLYN         224\n",
       "13     14 BROOKLYN         373\n",
       "14     15 BROOKLYN         195\n",
       "15     16 BROOKLYN         383\n",
       "16     17 BROOKLYN         534\n",
       "17     18 BROOKLYN         307"
      ]
     },
     "execution_count": 433,
     "metadata": {},
     "output_type": "execute_result"
    }
   ],
   "source": [
    "# removing parks and unspecified community districts\n",
    "df = df[(df['Community Board'] != '55 BROOKLYN')]\n",
    "df = df[(df['Community Board'] != 'Unspecified BROOKLYN')]\n",
    "\n",
    "# counting rodent complaints by community district\n",
    "comm_rod = df.groupby(['Community Board']).count().reset_index()\n",
    "comm_rod = comm_rod.iloc[:,:2]\n",
    "comm_rod"
   ]
  },
  {
   "cell_type": "markdown",
   "metadata": {},
   "source": [
    "I didn't expect the Community Board with the largest count of Rodent complaints to be 'unspecified', nor did I expect to find an actual Community Board (55) with only 1 Rodent complaint when the next smallest count for a Community Board was 155."
   ]
  },
  {
   "cell_type": "code",
   "execution_count": 434,
   "metadata": {
    "collapsed": false
   },
   "outputs": [
    {
     "data": {
      "text/html": [
       "<div>\n",
       "<table border=\"1\" class=\"dataframe\">\n",
       "  <thead>\n",
       "    <tr style=\"text-align: right;\">\n",
       "      <th></th>\n",
       "      <th>Unique Key</th>\n",
       "      <th>Created Date</th>\n",
       "      <th>Closed Date</th>\n",
       "      <th>Agency</th>\n",
       "      <th>Agency Name</th>\n",
       "      <th>Complaint Type</th>\n",
       "      <th>Descriptor</th>\n",
       "      <th>Location Type</th>\n",
       "      <th>Incident Zip</th>\n",
       "      <th>Incident Address</th>\n",
       "      <th>...</th>\n",
       "      <th>Due Date</th>\n",
       "      <th>Resolution Description</th>\n",
       "      <th>Resolution Action Updated Date</th>\n",
       "      <th>cd</th>\n",
       "      <th>Borough</th>\n",
       "      <th>X Coordinate (State Plane)</th>\n",
       "      <th>Y Coordinate (State Plane)</th>\n",
       "      <th>Latitude</th>\n",
       "      <th>Longitude</th>\n",
       "      <th>Location</th>\n",
       "    </tr>\n",
       "  </thead>\n",
       "  <tbody>\n",
       "    <tr>\n",
       "      <th>2</th>\n",
       "      <td>32310889</td>\n",
       "      <td>01/01/2016 12:00:00 AM</td>\n",
       "      <td>NaN</td>\n",
       "      <td>DOHMH</td>\n",
       "      <td>Department of Health and Mental Hygiene</td>\n",
       "      <td>Rodent</td>\n",
       "      <td>Rat Sighting</td>\n",
       "      <td>Vacant Lot</td>\n",
       "      <td>11232.0</td>\n",
       "      <td>358 43 STREET</td>\n",
       "      <td>...</td>\n",
       "      <td>01/31/2016 03:57:01 PM</td>\n",
       "      <td>The Department of Health and Mental Hygiene wi...</td>\n",
       "      <td>01/01/2016 12:00:00 AM</td>\n",
       "      <td>307</td>\n",
       "      <td>BROOKLYN</td>\n",
       "      <td>981656.0</td>\n",
       "      <td>176414.0</td>\n",
       "      <td>40.650892</td>\n",
       "      <td>-74.009348</td>\n",
       "      <td>(40.650891966208945, -74.0093482505519)</td>\n",
       "    </tr>\n",
       "    <tr>\n",
       "      <th>4</th>\n",
       "      <td>32312004</td>\n",
       "      <td>01/01/2016 12:00:00 AM</td>\n",
       "      <td>NaN</td>\n",
       "      <td>DOHMH</td>\n",
       "      <td>Department of Health and Mental Hygiene</td>\n",
       "      <td>Rodent</td>\n",
       "      <td>Mouse Sighting</td>\n",
       "      <td>1-2 Family Dwelling</td>\n",
       "      <td>11212.0</td>\n",
       "      <td>354 AMBOY STREET</td>\n",
       "      <td>...</td>\n",
       "      <td>01/31/2016 10:14:00 PM</td>\n",
       "      <td>The Department of Health and Mental Hygiene wi...</td>\n",
       "      <td>01/13/2016 12:00:00 AM</td>\n",
       "      <td>316</td>\n",
       "      <td>BROOKLYN</td>\n",
       "      <td>1008506.0</td>\n",
       "      <td>180291.0</td>\n",
       "      <td>40.661501</td>\n",
       "      <td>-73.912572</td>\n",
       "      <td>(40.66150063761366, -73.91257237318781)</td>\n",
       "    </tr>\n",
       "    <tr>\n",
       "      <th>6</th>\n",
       "      <td>32312557</td>\n",
       "      <td>01/01/2016 12:00:00 AM</td>\n",
       "      <td>01/06/2016 12:33:41 PM</td>\n",
       "      <td>DOHMH</td>\n",
       "      <td>Department of Health and Mental Hygiene</td>\n",
       "      <td>Rodent</td>\n",
       "      <td>Rat Sighting</td>\n",
       "      <td>3+ Family Apt. Building</td>\n",
       "      <td>11213.0</td>\n",
       "      <td>930 PROSPECT PLACE</td>\n",
       "      <td>...</td>\n",
       "      <td>01/31/2016 09:05:22 PM</td>\n",
       "      <td>The Department of Health and Mental Hygiene wi...</td>\n",
       "      <td>01/06/2016 12:33:41 PM</td>\n",
       "      <td>308</td>\n",
       "      <td>BROOKLYN</td>\n",
       "      <td>999276.0</td>\n",
       "      <td>184863.0</td>\n",
       "      <td>40.674070</td>\n",
       "      <td>-73.945831</td>\n",
       "      <td>(40.67407023114603, -73.94583051728789)</td>\n",
       "    </tr>\n",
       "    <tr>\n",
       "      <th>9</th>\n",
       "      <td>32312963</td>\n",
       "      <td>01/01/2016 12:00:00 AM</td>\n",
       "      <td>01/12/2016 03:43:25 PM</td>\n",
       "      <td>DOHMH</td>\n",
       "      <td>Department of Health and Mental Hygiene</td>\n",
       "      <td>Rodent</td>\n",
       "      <td>Signs of Rodents</td>\n",
       "      <td>1-2 Family Dwelling</td>\n",
       "      <td>11208.0</td>\n",
       "      <td>987 CRESCENT STREET</td>\n",
       "      <td>...</td>\n",
       "      <td>01/31/2016 04:52:58 PM</td>\n",
       "      <td>The Department of Health and Mental Hygiene wi...</td>\n",
       "      <td>01/12/2016 03:43:25 PM</td>\n",
       "      <td>305</td>\n",
       "      <td>BROOKLYN</td>\n",
       "      <td>1021167.0</td>\n",
       "      <td>180911.0</td>\n",
       "      <td>40.663159</td>\n",
       "      <td>-73.866934</td>\n",
       "      <td>(40.66315866212477, -73.86693409345021)</td>\n",
       "    </tr>\n",
       "    <tr>\n",
       "      <th>10</th>\n",
       "      <td>32313240</td>\n",
       "      <td>01/01/2016 12:00:00 AM</td>\n",
       "      <td>12/29/2015 12:00:00 AM</td>\n",
       "      <td>DOHMH</td>\n",
       "      <td>Department of Health and Mental Hygiene</td>\n",
       "      <td>Rodent</td>\n",
       "      <td>Rat Sighting</td>\n",
       "      <td>3+ Family Mixed Use Building</td>\n",
       "      <td>11203.0</td>\n",
       "      <td>651 BROOKLYN AVENUE</td>\n",
       "      <td>...</td>\n",
       "      <td>01/31/2016 10:40:46 AM</td>\n",
       "      <td>The Department of Health and Mental Hygiene wi...</td>\n",
       "      <td>12/29/2015 12:00:00 AM</td>\n",
       "      <td>309</td>\n",
       "      <td>BROOKLYN</td>\n",
       "      <td>999468.0</td>\n",
       "      <td>179035.0</td>\n",
       "      <td>40.658073</td>\n",
       "      <td>-73.945152</td>\n",
       "      <td>(40.658073341365935, -73.94515150328259)</td>\n",
       "    </tr>\n",
       "  </tbody>\n",
       "</table>\n",
       "<p>5 rows × 30 columns</p>\n",
       "</div>"
      ],
      "text/plain": [
       "    Unique Key            Created Date             Closed Date Agency  \\\n",
       "2     32310889  01/01/2016 12:00:00 AM                     NaN  DOHMH   \n",
       "4     32312004  01/01/2016 12:00:00 AM                     NaN  DOHMH   \n",
       "6     32312557  01/01/2016 12:00:00 AM  01/06/2016 12:33:41 PM  DOHMH   \n",
       "9     32312963  01/01/2016 12:00:00 AM  01/12/2016 03:43:25 PM  DOHMH   \n",
       "10    32313240  01/01/2016 12:00:00 AM  12/29/2015 12:00:00 AM  DOHMH   \n",
       "\n",
       "                                Agency Name Complaint Type        Descriptor  \\\n",
       "2   Department of Health and Mental Hygiene         Rodent      Rat Sighting   \n",
       "4   Department of Health and Mental Hygiene         Rodent    Mouse Sighting   \n",
       "6   Department of Health and Mental Hygiene         Rodent      Rat Sighting   \n",
       "9   Department of Health and Mental Hygiene         Rodent  Signs of Rodents   \n",
       "10  Department of Health and Mental Hygiene         Rodent      Rat Sighting   \n",
       "\n",
       "                   Location Type  Incident Zip     Incident Address  \\\n",
       "2                     Vacant Lot       11232.0        358 43 STREET   \n",
       "4            1-2 Family Dwelling       11212.0     354 AMBOY STREET   \n",
       "6        3+ Family Apt. Building       11213.0   930 PROSPECT PLACE   \n",
       "9            1-2 Family Dwelling       11208.0  987 CRESCENT STREET   \n",
       "10  3+ Family Mixed Use Building       11203.0  651 BROOKLYN AVENUE   \n",
       "\n",
       "                      ...                                   Due Date  \\\n",
       "2                     ...                     01/31/2016 03:57:01 PM   \n",
       "4                     ...                     01/31/2016 10:14:00 PM   \n",
       "6                     ...                     01/31/2016 09:05:22 PM   \n",
       "9                     ...                     01/31/2016 04:52:58 PM   \n",
       "10                    ...                     01/31/2016 10:40:46 AM   \n",
       "\n",
       "                               Resolution Description  \\\n",
       "2   The Department of Health and Mental Hygiene wi...   \n",
       "4   The Department of Health and Mental Hygiene wi...   \n",
       "6   The Department of Health and Mental Hygiene wi...   \n",
       "9   The Department of Health and Mental Hygiene wi...   \n",
       "10  The Department of Health and Mental Hygiene wi...   \n",
       "\n",
       "   Resolution Action Updated Date   cd   Borough X Coordinate (State Plane)  \\\n",
       "2          01/01/2016 12:00:00 AM  307  BROOKLYN                   981656.0   \n",
       "4          01/13/2016 12:00:00 AM  316  BROOKLYN                  1008506.0   \n",
       "6          01/06/2016 12:33:41 PM  308  BROOKLYN                   999276.0   \n",
       "9          01/12/2016 03:43:25 PM  305  BROOKLYN                  1021167.0   \n",
       "10         12/29/2015 12:00:00 AM  309  BROOKLYN                   999468.0   \n",
       "\n",
       "   Y Coordinate (State Plane)   Latitude  Longitude  \\\n",
       "2                    176414.0  40.650892 -74.009348   \n",
       "4                    180291.0  40.661501 -73.912572   \n",
       "6                    184863.0  40.674070 -73.945831   \n",
       "9                    180911.0  40.663159 -73.866934   \n",
       "10                   179035.0  40.658073 -73.945152   \n",
       "\n",
       "                                    Location  \n",
       "2    (40.650891966208945, -74.0093482505519)  \n",
       "4    (40.66150063761366, -73.91257237318781)  \n",
       "6    (40.67407023114603, -73.94583051728789)  \n",
       "9    (40.66315866212477, -73.86693409345021)  \n",
       "10  (40.658073341365935, -73.94515150328259)  \n",
       "\n",
       "[5 rows x 30 columns]"
      ]
     },
     "execution_count": 434,
     "metadata": {},
     "output_type": "execute_result"
    }
   ],
   "source": [
    "# aligning 311 community district column with PLUTO\n",
    "df.columns = ['Unique Key', 'Created Date', 'Closed Date', 'Agency', 'Agency Name',\n",
    "       'Complaint Type', 'Descriptor', 'Location Type', 'Incident Zip',\n",
    "       'Incident Address', 'Street Name', 'Cross Street 1', 'Cross Street 2',\n",
    "       'Intersection Street 1', 'Intersection Street 2', 'Address Type',\n",
    "       'City', 'Landmark', 'Facility Type', 'Status', 'Due Date',\n",
    "       'Resolution Description', 'Resolution Action Updated Date',\n",
    "       'cd', 'Borough', 'X Coordinate (State Plane)',\n",
    "       'Y Coordinate (State Plane)', 'Latitude', 'Longitude', 'Location']\n",
    "df['cd'] = '3' + df['cd'].astype(str)\n",
    "df['cd'] = df['cd'].str.slice(0,3)\n",
    "df.head()"
   ]
  },
  {
   "cell_type": "code",
   "execution_count": 435,
   "metadata": {
    "collapsed": false
   },
   "outputs": [
    {
     "data": {
      "text/html": [
       "<div>\n",
       "<table border=\"1\" class=\"dataframe\">\n",
       "  <thead>\n",
       "    <tr style=\"text-align: right;\">\n",
       "      <th></th>\n",
       "      <th>Unique Key</th>\n",
       "    </tr>\n",
       "  </thead>\n",
       "  <tbody>\n",
       "    <tr>\n",
       "      <th>count</th>\n",
       "      <td>18.000000</td>\n",
       "    </tr>\n",
       "    <tr>\n",
       "      <th>mean</th>\n",
       "      <td>424.111111</td>\n",
       "    </tr>\n",
       "    <tr>\n",
       "      <th>std</th>\n",
       "      <td>260.151741</td>\n",
       "    </tr>\n",
       "    <tr>\n",
       "      <th>min</th>\n",
       "      <td>155.000000</td>\n",
       "    </tr>\n",
       "    <tr>\n",
       "      <th>25%</th>\n",
       "      <td>232.250000</td>\n",
       "    </tr>\n",
       "    <tr>\n",
       "      <th>50%</th>\n",
       "      <td>388.000000</td>\n",
       "    </tr>\n",
       "    <tr>\n",
       "      <th>75%</th>\n",
       "      <td>522.250000</td>\n",
       "    </tr>\n",
       "    <tr>\n",
       "      <th>max</th>\n",
       "      <td>1235.000000</td>\n",
       "    </tr>\n",
       "  </tbody>\n",
       "</table>\n",
       "</div>"
      ],
      "text/plain": [
       "        Unique Key\n",
       "count    18.000000\n",
       "mean    424.111111\n",
       "std     260.151741\n",
       "min     155.000000\n",
       "25%     232.250000\n",
       "50%     388.000000\n",
       "75%     522.250000\n",
       "max    1235.000000"
      ]
     },
     "execution_count": 435,
     "metadata": {},
     "output_type": "execute_result"
    }
   ],
   "source": [
    "# General descriptives for rodent complaints by Community Board:\n",
    "#print(\"mean     {:0.0f}\".format(comm_rod.describe()['mean']))\n",
    "#print(\"median   {:0.0f}\".format(comm_rod.median()))\n",
    "#print(\"stdev    {:0.0f}\".format(comm_rod.describe()['std']))\n",
    "comm_rod.describe()"
   ]
  },
  {
   "cell_type": "code",
   "execution_count": 578,
   "metadata": {
    "collapsed": false
   },
   "outputs": [
    {
     "data": {
      "text/html": [
       "<div>\n",
       "<table border=\"1\" class=\"dataframe\">\n",
       "  <thead>\n",
       "    <tr style=\"text-align: right;\">\n",
       "      <th></th>\n",
       "      <th>cd</th>\n",
       "      <th>rodent_complaints</th>\n",
       "    </tr>\n",
       "  </thead>\n",
       "  <tbody>\n",
       "    <tr>\n",
       "      <th>0</th>\n",
       "      <td>301</td>\n",
       "      <td>573</td>\n",
       "    </tr>\n",
       "    <tr>\n",
       "      <th>1</th>\n",
       "      <td>302</td>\n",
       "      <td>414</td>\n",
       "    </tr>\n",
       "    <tr>\n",
       "      <th>2</th>\n",
       "      <td>303</td>\n",
       "      <td>1235</td>\n",
       "    </tr>\n",
       "    <tr>\n",
       "      <th>3</th>\n",
       "      <td>304</td>\n",
       "      <td>635</td>\n",
       "    </tr>\n",
       "    <tr>\n",
       "      <th>4</th>\n",
       "      <td>305</td>\n",
       "      <td>487</td>\n",
       "    </tr>\n",
       "    <tr>\n",
       "      <th>5</th>\n",
       "      <td>306</td>\n",
       "      <td>393</td>\n",
       "    </tr>\n",
       "    <tr>\n",
       "      <th>6</th>\n",
       "      <td>307</td>\n",
       "      <td>164</td>\n",
       "    </tr>\n",
       "    <tr>\n",
       "      <th>7</th>\n",
       "      <td>308</td>\n",
       "      <td>683</td>\n",
       "    </tr>\n",
       "    <tr>\n",
       "      <th>8</th>\n",
       "      <td>309</td>\n",
       "      <td>449</td>\n",
       "    </tr>\n",
       "    <tr>\n",
       "      <th>9</th>\n",
       "      <td>310</td>\n",
       "      <td>155</td>\n",
       "    </tr>\n",
       "    <tr>\n",
       "      <th>10</th>\n",
       "      <td>311</td>\n",
       "      <td>257</td>\n",
       "    </tr>\n",
       "    <tr>\n",
       "      <th>11</th>\n",
       "      <td>312</td>\n",
       "      <td>173</td>\n",
       "    </tr>\n",
       "    <tr>\n",
       "      <th>12</th>\n",
       "      <td>313</td>\n",
       "      <td>224</td>\n",
       "    </tr>\n",
       "    <tr>\n",
       "      <th>13</th>\n",
       "      <td>314</td>\n",
       "      <td>373</td>\n",
       "    </tr>\n",
       "    <tr>\n",
       "      <th>14</th>\n",
       "      <td>315</td>\n",
       "      <td>195</td>\n",
       "    </tr>\n",
       "    <tr>\n",
       "      <th>15</th>\n",
       "      <td>316</td>\n",
       "      <td>383</td>\n",
       "    </tr>\n",
       "    <tr>\n",
       "      <th>16</th>\n",
       "      <td>317</td>\n",
       "      <td>534</td>\n",
       "    </tr>\n",
       "    <tr>\n",
       "      <th>17</th>\n",
       "      <td>318</td>\n",
       "      <td>307</td>\n",
       "    </tr>\n",
       "  </tbody>\n",
       "</table>\n",
       "</div>"
      ],
      "text/plain": [
       "     cd  rodent_complaints\n",
       "0   301                573\n",
       "1   302                414\n",
       "2   303               1235\n",
       "3   304                635\n",
       "4   305                487\n",
       "5   306                393\n",
       "6   307                164\n",
       "7   308                683\n",
       "8   309                449\n",
       "9   310                155\n",
       "10  311                257\n",
       "11  312                173\n",
       "12  313                224\n",
       "13  314                373\n",
       "14  315                195\n",
       "15  316                383\n",
       "16  317                534\n",
       "17  318                307"
      ]
     },
     "execution_count": 578,
     "metadata": {},
     "output_type": "execute_result"
    }
   ],
   "source": [
    "# check again that 311 data set is cleaned up\n",
    "ratboards = df.groupby(['cd']).size().reset_index()\n",
    "ratboards = pd.DataFrame(ratboards)\n",
    "ratboards.columns = [['cd', 'rodent_complaints']]\n",
    "ratboards"
   ]
  },
  {
   "cell_type": "code",
   "execution_count": 462,
   "metadata": {
    "collapsed": false
   },
   "outputs": [
    {
     "data": {
      "text/html": [
       "<div>\n",
       "<table border=\"1\" class=\"dataframe\">\n",
       "  <thead>\n",
       "    <tr style=\"text-align: right;\">\n",
       "      <th></th>\n",
       "      <th>the_geom</th>\n",
       "      <th>address</th>\n",
       "      <th>assesstot</th>\n",
       "      <th>bldgarea</th>\n",
       "      <th>borough</th>\n",
       "      <th>cd</th>\n",
       "      <th>landuse</th>\n",
       "      <th>xcoord</th>\n",
       "      <th>ycoord</th>\n",
       "      <th>yearbuilt</th>\n",
       "      <th>zipcode</th>\n",
       "    </tr>\n",
       "  </thead>\n",
       "  <tbody>\n",
       "    <tr>\n",
       "      <th>0</th>\n",
       "      <td>0106000020E61000000100000001030000000100000004...</td>\n",
       "      <td>BROADWAY</td>\n",
       "      <td>4050</td>\n",
       "      <td>0</td>\n",
       "      <td>BK</td>\n",
       "      <td>303</td>\n",
       "      <td>9.0</td>\n",
       "      <td>0</td>\n",
       "      <td>0</td>\n",
       "      <td>1955</td>\n",
       "      <td>0</td>\n",
       "    </tr>\n",
       "    <tr>\n",
       "      <th>6</th>\n",
       "      <td>0106000020E61000000100000001030000000100000005...</td>\n",
       "      <td>442 WILLOUGHBY AVENUE</td>\n",
       "      <td>34200</td>\n",
       "      <td>3944</td>\n",
       "      <td>BK</td>\n",
       "      <td>303</td>\n",
       "      <td>2.0</td>\n",
       "      <td>997454</td>\n",
       "      <td>191858</td>\n",
       "      <td>1931</td>\n",
       "      <td>11205</td>\n",
       "    </tr>\n",
       "    <tr>\n",
       "      <th>7</th>\n",
       "      <td>0106000020E61000000100000001030000000100000005...</td>\n",
       "      <td>11 LYNCH STREET</td>\n",
       "      <td>143856</td>\n",
       "      <td>9616</td>\n",
       "      <td>BK</td>\n",
       "      <td>301</td>\n",
       "      <td>2.0</td>\n",
       "      <td>995966</td>\n",
       "      <td>194296</td>\n",
       "      <td>2008</td>\n",
       "      <td>11249</td>\n",
       "    </tr>\n",
       "    <tr>\n",
       "      <th>8</th>\n",
       "      <td>0106000020E61000000100000001030000000100000005...</td>\n",
       "      <td>585 FLUSHING AVENUE</td>\n",
       "      <td>61235</td>\n",
       "      <td>3503</td>\n",
       "      <td>BK</td>\n",
       "      <td>301</td>\n",
       "      <td>2.0</td>\n",
       "      <td>997734</td>\n",
       "      <td>194260</td>\n",
       "      <td>1934</td>\n",
       "      <td>11206</td>\n",
       "    </tr>\n",
       "    <tr>\n",
       "      <th>11</th>\n",
       "      <td>0106000020E61000000100000001030000000100000004...</td>\n",
       "      <td>369 SOUTH 1 STREET</td>\n",
       "      <td>143550</td>\n",
       "      <td>4139</td>\n",
       "      <td>BK</td>\n",
       "      <td>301</td>\n",
       "      <td>7.0</td>\n",
       "      <td>997424</td>\n",
       "      <td>198192</td>\n",
       "      <td>1930</td>\n",
       "      <td>11211</td>\n",
       "    </tr>\n",
       "  </tbody>\n",
       "</table>\n",
       "</div>"
      ],
      "text/plain": [
       "                                             the_geom                address  \\\n",
       "0   0106000020E61000000100000001030000000100000004...               BROADWAY   \n",
       "6   0106000020E61000000100000001030000000100000005...  442 WILLOUGHBY AVENUE   \n",
       "7   0106000020E61000000100000001030000000100000005...        11 LYNCH STREET   \n",
       "8   0106000020E61000000100000001030000000100000005...    585 FLUSHING AVENUE   \n",
       "11  0106000020E61000000100000001030000000100000004...     369 SOUTH 1 STREET   \n",
       "\n",
       "    assesstot  bldgarea borough   cd  landuse  xcoord  ycoord  yearbuilt  \\\n",
       "0        4050         0      BK  303      9.0       0       0       1955   \n",
       "6       34200      3944      BK  303      2.0  997454  191858       1931   \n",
       "7      143856      9616      BK  301      2.0  995966  194296       2008   \n",
       "8       61235      3503      BK  301      2.0  997734  194260       1934   \n",
       "11     143550      4139      BK  301      7.0  997424  198192       1930   \n",
       "\n",
       "    zipcode  \n",
       "0         0  \n",
       "6     11205  \n",
       "7     11249  \n",
       "8     11206  \n",
       "11    11211  "
      ]
     },
     "execution_count": 462,
     "metadata": {},
     "output_type": "execute_result"
    }
   ],
   "source": [
    "# load in PLUTO data for yearbuilt\n",
    "pluto = pd.read_csv('pluto.csv')\n",
    "# drop rows without yearbuilt data\n",
    "pluto = pluto[(pluto['yearbuilt'] != 0)]\n",
    "pluto = pluto[(pluto['borough'] == 'BK')]\n",
    "pluto.head()"
   ]
  },
  {
   "cell_type": "code",
   "execution_count": 587,
   "metadata": {
    "collapsed": false
   },
   "outputs": [
    {
     "name": "stderr",
     "output_type": "stream",
     "text": [
      "/opt/rh/anaconda/root/envs/PUI2016_Python3/lib/python3.5/site-packages/pandas/core/indexing.py:288: SettingWithCopyWarning: \n",
      "A value is trying to be set on a copy of a slice from a DataFrame.\n",
      "Try using .loc[row_indexer,col_indexer] = value instead\n",
      "\n",
      "See the caveats in the documentation: http://pandas.pydata.org/pandas-docs/stable/indexing.html#indexing-view-versus-copy\n",
      "  self.obj[key] = _infer_fill_value(value)\n",
      "/opt/rh/anaconda/root/envs/PUI2016_Python3/lib/python3.5/site-packages/pandas/core/indexing.py:465: SettingWithCopyWarning: \n",
      "A value is trying to be set on a copy of a slice from a DataFrame.\n",
      "Try using .loc[row_indexer,col_indexer] = value instead\n",
      "\n",
      "See the caveats in the documentation: http://pandas.pydata.org/pandas-docs/stable/indexing.html#indexing-view-versus-copy\n",
      "  self.obj[item] = s\n"
     ]
    },
    {
     "data": {
      "text/html": [
       "<div>\n",
       "<table border=\"1\" class=\"dataframe\">\n",
       "  <thead>\n",
       "    <tr style=\"text-align: right;\">\n",
       "      <th></th>\n",
       "      <th>cd</th>\n",
       "      <th>yearbuilt</th>\n",
       "      <th>age</th>\n",
       "    </tr>\n",
       "  </thead>\n",
       "  <tbody>\n",
       "    <tr>\n",
       "      <th>0</th>\n",
       "      <td>303</td>\n",
       "      <td>1955</td>\n",
       "      <td>62</td>\n",
       "    </tr>\n",
       "    <tr>\n",
       "      <th>6</th>\n",
       "      <td>303</td>\n",
       "      <td>1931</td>\n",
       "      <td>86</td>\n",
       "    </tr>\n",
       "    <tr>\n",
       "      <th>7</th>\n",
       "      <td>301</td>\n",
       "      <td>2008</td>\n",
       "      <td>9</td>\n",
       "    </tr>\n",
       "    <tr>\n",
       "      <th>8</th>\n",
       "      <td>301</td>\n",
       "      <td>1934</td>\n",
       "      <td>83</td>\n",
       "    </tr>\n",
       "    <tr>\n",
       "      <th>11</th>\n",
       "      <td>301</td>\n",
       "      <td>1930</td>\n",
       "      <td>87</td>\n",
       "    </tr>\n",
       "  </tbody>\n",
       "</table>\n",
       "</div>"
      ],
      "text/plain": [
       "     cd  yearbuilt  age\n",
       "0   303       1955   62\n",
       "6   303       1931   86\n",
       "7   301       2008    9\n",
       "8   301       1934   83\n",
       "11  301       1930   87"
      ]
     },
     "execution_count": 587,
     "metadata": {},
     "output_type": "execute_result"
    }
   ],
   "source": [
    "# add column for age of building use yearbuilt\n",
    "yb = pluto[['cd', 'yearbuilt']]\n",
    "value = 2017 - yb['yearbuilt']\n",
    "yb.loc[:, \"age\"] = value\n",
    "yb.head()"
   ]
  },
  {
   "cell_type": "code",
   "execution_count": 601,
   "metadata": {
    "collapsed": false
   },
   "outputs": [
    {
     "data": {
      "text/plain": [
       "16"
      ]
     },
     "execution_count": 601,
     "metadata": {},
     "output_type": "execute_result"
    }
   ],
   "source": [
    "density = str(yb['cd'])\n",
    "density.count('302')"
   ]
  },
  {
   "cell_type": "code",
   "execution_count": 607,
   "metadata": {
    "collapsed": false
   },
   "outputs": [
    {
     "data": {
      "text/html": [
       "<div>\n",
       "<table border=\"1\" class=\"dataframe\">\n",
       "  <thead>\n",
       "    <tr style=\"text-align: right;\">\n",
       "      <th></th>\n",
       "      <th>index</th>\n",
       "      <th>cd</th>\n",
       "      <th>age</th>\n",
       "    </tr>\n",
       "  </thead>\n",
       "  <tbody>\n",
       "    <tr>\n",
       "      <th>0</th>\n",
       "      <td>0</td>\n",
       "      <td>301</td>\n",
       "      <td>87.0</td>\n",
       "    </tr>\n",
       "    <tr>\n",
       "      <th>1</th>\n",
       "      <td>1</td>\n",
       "      <td>302</td>\n",
       "      <td>101.0</td>\n",
       "    </tr>\n",
       "    <tr>\n",
       "      <th>2</th>\n",
       "      <td>2</td>\n",
       "      <td>303</td>\n",
       "      <td>87.0</td>\n",
       "    </tr>\n",
       "    <tr>\n",
       "      <th>3</th>\n",
       "      <td>3</td>\n",
       "      <td>304</td>\n",
       "      <td>74.0</td>\n",
       "    </tr>\n",
       "    <tr>\n",
       "      <th>4</th>\n",
       "      <td>4</td>\n",
       "      <td>306</td>\n",
       "      <td>102.0</td>\n",
       "    </tr>\n",
       "  </tbody>\n",
       "</table>\n",
       "</div>"
      ],
      "text/plain": [
       "   index   cd    age\n",
       "0      0  301   87.0\n",
       "1      1  302  101.0\n",
       "2      2  303   87.0\n",
       "3      3  304   74.0\n",
       "4      4  306  102.0"
      ]
     },
     "execution_count": 607,
     "metadata": {},
     "output_type": "execute_result"
    }
   ],
   "source": [
    "# grouping by cd and getting average age\n",
    "newdf = yb.groupby('cd', as_index=False)['age'].mean().round()\n",
    "newdf = pd.DataFrame(newdf)\n",
    "newdf\n",
    "newdf.reset_index()"
   ]
  },
  {
   "cell_type": "code",
   "execution_count": 608,
   "metadata": {
    "collapsed": false
   },
   "outputs": [
    {
     "data": {
      "text/plain": [
       "count      5.000000\n",
       "mean      90.200000\n",
       "std       11.606033\n",
       "min       74.000000\n",
       "25%       87.000000\n",
       "50%       87.000000\n",
       "75%      101.000000\n",
       "max      102.000000\n",
       "Name: age, dtype: float64"
      ]
     },
     "execution_count": 608,
     "metadata": {},
     "output_type": "execute_result"
    }
   ],
   "source": [
    "# General descriptives for average bldg age by Community Board:\n",
    "newdf['age'].describe()"
   ]
  },
  {
   "cell_type": "code",
   "execution_count": 609,
   "metadata": {
    "collapsed": false
   },
   "outputs": [
    {
     "name": "stdout",
     "output_type": "stream",
     "text": [
      "0    301\n",
      "1    302\n",
      "2    303\n",
      "3    304\n",
      "4    306\n",
      "Name: cd, dtype: int64\n"
     ]
    }
   ],
   "source": [
    "# converting all community district values to int before merging datasets\n",
    "newdf['cd'] = pd.to_numeric(newdf['cd'])\n",
    "ratboards['cd'] = pd.to_numeric(ratboards['cd'])\n",
    "print(newdf['cd'])"
   ]
  },
  {
   "cell_type": "code",
   "execution_count": 615,
   "metadata": {
    "collapsed": false
   },
   "outputs": [
    {
     "name": "stdout",
     "output_type": "stream",
     "text": [
      "    cd  rodent_complaints    age\n",
      "0  301                573   87.0\n",
      "1  302                414  101.0\n",
      "2  303               1235   87.0\n",
      "3  304                635   74.0\n",
      "4  306                393  102.0\n"
     ]
    }
   ],
   "source": [
    "#merging rodent_complaints with avg bldg age by community district\n",
    "ratboards.columns\n",
    "old_homes = pd.merge(ratboards, newdf, how= 'inner', left_on='cd', right_on='cd')\n",
    "\n",
    "type(ratboards['cd'][0])\n",
    "print(old_homes)"
   ]
  },
  {
   "cell_type": "code",
   "execution_count": 616,
   "metadata": {
    "collapsed": false
   },
   "outputs": [
    {
     "name": "stdout",
     "output_type": "stream",
     "text": [
      "    cd  rodent_complaints    age\n",
      "0  301                 17   87.0\n",
      "1  302                 25  101.0\n",
      "2  303                308   87.0\n",
      "3  304                635   74.0\n",
      "4  306                 56  102.0\n"
     ]
    },
    {
     "name": "stderr",
     "output_type": "stream",
     "text": [
      "/opt/rh/anaconda/root/envs/PUI2016_Python3/lib/python3.5/site-packages/ipykernel/__main__.py:1: SettingWithCopyWarning: \n",
      "A value is trying to be set on a copy of a slice from a DataFrame\n",
      "\n",
      "See the caveats in the documentation: http://pandas.pydata.org/pandas-docs/stable/indexing.html#indexing-view-versus-copy\n",
      "  if __name__ == '__main__':\n",
      "/opt/rh/anaconda/root/envs/PUI2016_Python3/lib/python3.5/site-packages/ipykernel/__main__.py:2: SettingWithCopyWarning: \n",
      "A value is trying to be set on a copy of a slice from a DataFrame\n",
      "\n",
      "See the caveats in the documentation: http://pandas.pydata.org/pandas-docs/stable/indexing.html#indexing-view-versus-copy\n",
      "  from ipykernel import kernelapp as app\n",
      "/opt/rh/anaconda/root/envs/PUI2016_Python3/lib/python3.5/site-packages/ipykernel/__main__.py:3: SettingWithCopyWarning: \n",
      "A value is trying to be set on a copy of a slice from a DataFrame\n",
      "\n",
      "See the caveats in the documentation: http://pandas.pydata.org/pandas-docs/stable/indexing.html#indexing-view-versus-copy\n",
      "  app.launch_new_instance()\n",
      "/opt/rh/anaconda/root/envs/PUI2016_Python3/lib/python3.5/site-packages/ipykernel/__main__.py:4: SettingWithCopyWarning: \n",
      "A value is trying to be set on a copy of a slice from a DataFrame\n",
      "\n",
      "See the caveats in the documentation: http://pandas.pydata.org/pandas-docs/stable/indexing.html#indexing-view-versus-copy\n",
      "/opt/rh/anaconda/root/envs/PUI2016_Python3/lib/python3.5/site-packages/ipykernel/__main__.py:5: SettingWithCopyWarning: \n",
      "A value is trying to be set on a copy of a slice from a DataFrame\n",
      "\n",
      "See the caveats in the documentation: http://pandas.pydata.org/pandas-docs/stable/indexing.html#indexing-view-versus-copy\n"
     ]
    }
   ],
   "source": [
    "# normalizing rodent_complaint counts by number of bldgs in the community district\n",
    "old_homes['rodent_complaints'][0] = old_homes['rodent_complaints'][0]/density.count('301')\n",
    "old_homes['rodent_complaints'][1] = old_homes['rodent_complaints'][1]/density.count('302')\n",
    "old_homes['rodent_complaints'][2] = old_homes['rodent_complaints'][2]/density.count('303')\n",
    "old_homes['rodent_complaints'][3] = old_homes['rodent_complaints'][3]/density.count('304')\n",
    "old_homes['rodent_complaints'][4] = old_homes['rodent_complaints'][4]/density.count('306')\n",
    "print(old_homes)"
   ]
  },
  {
   "cell_type": "markdown",
   "metadata": {},
   "source": [
    "# plot histogram, scatterplot"
   ]
  },
  {
   "cell_type": "code",
   "execution_count": 633,
   "metadata": {
    "collapsed": false
   },
   "outputs": [
    {
     "data": {
      "text/plain": [
       "<matplotlib.text.Text at 0x7fb9515e5048>"
      ]
     },
     "execution_count": 633,
     "metadata": {},
     "output_type": "execute_result"
    },
    {
     "data": {
      "image/png": "[encoded data removed]",
      "text/plain": [
       "<matplotlib.figure.Figure at 0x7fb951611908>"
      ]
     },
     "metadata": {},
     "output_type": "display_data"
    }
   ],
   "source": [
    "x = old_homes['age']\n",
    "y = old_homes['rodent_complaints']\n",
    "\n",
    "pl.plot(x, y, 'o')\n",
    "pl.xlabel('Avg. Bldg. Age')\n",
    "pl.ylabel('Complaints per Dated Bldg.')\n",
    "pl.title('311 Rodent Calls by BK CD')"
   ]
  },
  {
   "cell_type": "code",
   "execution_count": 632,
   "metadata": {
    "collapsed": false
   },
   "outputs": [
    {
     "data": {
      "text/plain": [
       "<matplotlib.text.Text at 0x7fb95172f2b0>"
      ]
     },
     "execution_count": 632,
     "metadata": {},
     "output_type": "execute_result"
    },
    {
     "data": {
      "image/png": "[encoded data removed]",
      "text/plain": [
       "<matplotlib.figure.Figure at 0x7fb951700550>"
      ]
     },
     "metadata": {},
     "output_type": "display_data"
    }
   ],
   "source": [
    "plt.hist(y)\n",
    "plt.title(\"Complaints Histogram\")\n",
    "plt.xlabel(\"# of Complaints\")\n",
    "plt.ylabel(\"Frequency\")"
   ]
  },
  {
   "cell_type": "code",
   "execution_count": 631,
   "metadata": {
    "collapsed": false
   },
   "outputs": [
    {
     "data": {
      "text/plain": [
       "<matplotlib.text.Text at 0x7fb95172f6a0>"
      ]
     },
     "execution_count": 631,
     "metadata": {},
     "output_type": "execute_result"
    },
    {
     "data": {
      "image/png": "[encoded data removed]",
      "text/plain": [
       "<matplotlib.figure.Figure at 0x7fb951715160>"
      ]
     },
     "metadata": {},
     "output_type": "display_data"
    }
   ],
   "source": [
    "plt.hist(x)\n",
    "plt.title(\"Bldg. Age Histogram\")\n",
    "plt.xlabel(\"Age\")\n",
    "plt.ylabel(\"Frequency\")"
   ]
  },
  {
   "cell_type": "markdown",
   "metadata": {},
   "source": [
    "# Visualization: map the locations of 311 complaints for the specific type you have chosen."
   ]
  },
  {
   "cell_type": "code",
   "execution_count": 639,
   "metadata": {
    "collapsed": false
   },
   "outputs": [
    {
     "data": {
      "text/html": [
       "<table border=\"1\" class=\"dataframe\">\n",
       "  <thead>\n",
       "    <tr style=\"text-align: right;\">\n",
       "      <th></th>\n",
       "      <th>Image</th>\n",
       "    </tr>\n",
       "  </thead>\n",
       "  <tbody>\n",
       "    <tr>\n",
       "      <th>0</th>\n",
       "      <td><img src=\"311BK.PNG\"/></td>\n",
       "    </tr>\n",
       "  </tbody>\n",
       "</table>"
      ],
      "text/plain": [
       "<IPython.core.display.HTML object>"
      ]
     },
     "execution_count": 639,
     "metadata": {},
     "output_type": "execute_result"
    }
   ],
   "source": [
    "import pandas as pd\n",
    "from IPython.display import Image, HTML\n",
    "\n",
    "df = pd.DataFrame(['<img src=\"311BK.PNG\"/>'], columns = ['Image'])\n",
    "\n",
    "HTML(df.to_html(escape=False))"
   ]
  },
  {
   "cell_type": "markdown",
   "metadata": {},
   "source": [
    "# Analysis: Linear Regression"
   ]
  },
  {
   "cell_type": "code",
   "execution_count": 634,
   "metadata": {
    "collapsed": false
   },
   "outputs": [
    {
     "data": {
      "text/plain": [
       "<matplotlib.text.Text at 0x7fb95155b080>"
      ]
     },
     "execution_count": 634,
     "metadata": {},
     "output_type": "execute_result"
    },
    {
     "data": {
      "image/png": "[encoded data removed]",
      "text/plain": [
       "<matplotlib.figure.Figure at 0x7fb9515a2198>"
      ]
     },
     "metadata": {},
     "output_type": "display_data"
    }
   ],
   "source": [
    "import statsmodels.formula.api as smf\n",
    "\n",
    "X = old_homes['age']\n",
    "Y = old_homes['rodent_complaints']\n",
    "\n",
    "bModel = smf.ols(formula='Y ~ X', data = old_homes).fit()\n",
    "\n",
    "plt.scatter(old_homes['age'], old_homes['rodent_complaints'])\n",
    "plt.plot(old_homes['age'], bModel.predict())\n",
    "plt.xlabel('Complaints per Dated Bldg')\n",
    "plt.ylabel('Avg. Bldg. Age')\n",
    "plt.title('311 Rodent Calls by BK CD')"
   ]
  },
  {
   "cell_type": "code",
   "execution_count": 626,
   "metadata": {
    "collapsed": false
   },
   "outputs": [
    {
     "name": "stderr",
     "output_type": "stream",
     "text": [
      "/opt/rh/anaconda/root/envs/PUI2016_Python3/lib/python3.5/site-packages/statsmodels/stats/stattools.py:72: UserWarning: omni_normtest is not valid with less than 8 observations; 5 samples were given.\n",
      "  \"samples were given.\" % int(n))\n"
     ]
    },
    {
     "name": "stdout",
     "output_type": "stream",
     "text": [
      "                            OLS Regression Results                            \n",
      "==============================================================================\n",
      "Dep. Variable:                      Y   R-squared:                       0.703\n",
      "Model:                            OLS   Adj. R-squared:                  0.604\n",
      "Method:                 Least Squares   F-statistic:                     7.096\n",
      "Date:                Tue, 10 Oct 2017   Prob (F-statistic):             0.0761\n",
      "Time:                        07:04:02   Log-Likelihood:                -31.441\n",
      "No. Observations:                   5   AIC:                             66.88\n",
      "Df Residuals:                       3   BIC:                             66.10\n",
      "Df Model:                           1                                         \n",
      "Covariance Type:            nonrobust                                         \n",
      "==============================================================================\n",
      "                 coef    std err          t      P>|t|      [95.0% Conf. Int.]\n",
      "------------------------------------------------------------------------------\n",
      "Intercept   1948.6180    657.666      2.963      0.059      -144.369  4041.605\n",
      "X            -19.2951      7.243     -2.664      0.076       -42.347     3.757\n",
      "==============================================================================\n",
      "Omnibus:                          nan   Durbin-Watson:                   1.000\n",
      "Prob(Omnibus):                    nan   Jarque-Bera (JB):                1.376\n",
      "Skew:                          -1.285   Prob(JB):                        0.503\n",
      "Kurtosis:                       2.988   Cond. No.                         794.\n",
      "==============================================================================\n",
      "\n",
      "Warnings:\n",
      "[1] Standard Errors assume that the covariance matrix of the errors is correctly specified.\n"
     ]
    }
   ],
   "source": [
    "print(bModel.summary())"
   ]
  },
  {
   "cell_type": "markdown",
   "metadata": {
    "collapsed": false
   },
   "source": [
    "# Discussion: describe how an agency might use your findings to improve service delivery or performance. What agency(ies) would be involved? What are the limitations of your approach? What could you do to improve it?"
   ]
  },
  {
   "cell_type": "markdown",
   "metadata": {
    "collapsed": true
   },
   "source": [
    "The New York City Department of Health & Mental Hygiene is the principal agency charged with addressing rodent infestations in New York City. The Department's Pest Control Services Division conducts inspections following receipt of complaints and determines whether exterminations and/or property clean-ups are necessary.\n",
    "\n",
    "New York Department of Health and Mental Hygiene could use my findings to inform the Office of Pest Control about which buildings, whether a complaint had come through 311 or not, may be at the highest risk of rodent infestation. With enough data points, NYDHMH could develop a predictive model to allocate inspection resources and anticipate where rodents may be before a 311 complaint is even made.\n",
    "\n",
    "Even though we'd expect to see more rodent complaints in older buildings, my linear regression shows the opposite. This is a reflection of the limitations of small data, as well as the limitations of aggregating a value like building age for a large area like a community district. Because I dropped PLUTO data with a building age and 311 data without a specified community district, my results were narrowed and consequently less generalizable. At a higher level, there is a limitation in using 311 rodent complaints to assess rodent problems given the \n",
    "\n",
    "To improve my approach, I would expand the date range for my 311 and bring in additional data on top of PLUTO to gather building age information for more buildings. I would also attempt to associate complaints with buildings, so that the relationship between building age and rodent complaints could analyzed at a more granular level. Lastly, we could begin to join in other building or neighborhood characteristics, like socioeconomics status, to assess whether certain populations are at greater risk of low quality living conditions or are simply not getting equal attention from the city."
   ]
  }
 ],
 "metadata": {
  "kernelspec": {
   "display_name": "PUI2016_Python3",
   "language": "python",
   "name": "pui2016_python3"
  },
  "language_info": {
   "codemirror_mode": {
    "name": "ipython",
    "version": 3
   },
   "file_extension": ".py",
   "mimetype": "text/x-python",
   "name": "python",
   "nbconvert_exporter": "python",
   "pygments_lexer": "ipython3",
   "version": "3.5.4"
  }
 },
 "nbformat": 4,
 "nbformat_minor": 0
}
